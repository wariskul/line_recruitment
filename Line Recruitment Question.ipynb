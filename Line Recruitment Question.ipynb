{
 "cells": [
  {
   "cell_type": "markdown",
   "metadata": {},
   "source": [
    "## Line Recruitment Question\n",
    "- Majority element of an array is defined as a value x for which strictly more than half of array elements are equal to x.\n",
    "Output the majority element of the given array a, or -1 if the array doesn't have majority element.\n",
    "\n",
    "- The first line of the input contains an integer N - the number of elements in the array. 1 <= N <= 100.\n",
    "The second line of the input contains N integers - the elements of the array, separated with single spaces. 1 <= ai <= 100."
   ]
  },
  {
   "cell_type": "code",
   "execution_count": 13,
   "metadata": {},
   "outputs": [],
   "source": [
    "# Results\n",
    "def get_majority_numbers(input_str):\n",
    "    split_str = input_str.strip().split('\\n')\n",
    "    array_length = int(split_str[0])\n",
    "    array_list = split_str[1].strip().split(' ')\n",
    "    count_num = [ (i, array_list.count(i)) for i in array_list]\n",
    "    max_elements = -1\n",
    "    max_count = -1\n",
    "    for element, count in count_num:\n",
    "        if count > max_count:\n",
    "            max_count = count\n",
    "            max_element = element\n",
    "    # if more than half\n",
    "    if max_count > array_length/2:\n",
    "        return max_element\n",
    "    else:\n",
    "        return -1"
   ]
  },
  {
   "cell_type": "markdown",
   "metadata": {},
   "source": [
    "## Test Results"
   ]
  },
  {
   "cell_type": "code",
   "execution_count": 19,
   "metadata": {},
   "outputs": [
    {
     "name": "stdout",
     "output_type": "stream",
     "text": [
      "8\n",
      "-1\n",
      "-1\n"
     ]
    }
   ],
   "source": [
    "input1 = \"\"\"5\n",
    "8 8 2 4 8\n",
    "\"\"\"\n",
    "input2 = \"\"\"3\n",
    "1 2 3\n",
    "\"\"\"\n",
    "input3 = \"\"\"10\n",
    "1 1 1 1 2 2 2 4 5 1\n",
    "\"\"\"\n",
    "print(get_majority_numbers(input1))\n",
    "print(get_majority_numbers(input2))\n",
    "print(get_majority_numbers(input3))"
   ]
  }
 ],
 "metadata": {
  "kernelspec": {
   "display_name": "Python 3",
   "language": "python",
   "name": "python3"
  },
  "language_info": {
   "codemirror_mode": {
    "name": "ipython",
    "version": 3
   },
   "file_extension": ".py",
   "mimetype": "text/x-python",
   "name": "python",
   "nbconvert_exporter": "python",
   "pygments_lexer": "ipython3",
   "version": "3.6.10"
  }
 },
 "nbformat": 4,
 "nbformat_minor": 4
}
